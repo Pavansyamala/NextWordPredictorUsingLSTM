{
 "cells": [
  {
   "cell_type": "code",
   "execution_count": 8,
   "id": "95d7811d",
   "metadata": {},
   "outputs": [],
   "source": [
    "import pandas as pd\n",
    "import numpy as np\n",
    "import nltk\n",
    "from nltk.tokenize import sent_tokenize"
   ]
  },
  {
   "cell_type": "code",
   "execution_count": 9,
   "id": "3b87c58c",
   "metadata": {},
   "outputs": [],
   "source": [
    "path = \"D:/BrainDead/nextwordprediction/1661-0.txt\""
   ]
  },
  {
   "cell_type": "code",
   "execution_count": 10,
   "id": "88131e47",
   "metadata": {},
   "outputs": [],
   "source": [
    "with open(path , 'r' ,encoding='utf-8' ) as file :\n",
    "    data = file.read().lower()"
   ]
  },
  {
   "cell_type": "code",
   "execution_count": 13,
   "id": "6a514932",
   "metadata": {},
   "outputs": [],
   "source": [
    "sentences = sent_tokenize(data)"
   ]
  },
  {
   "cell_type": "code",
   "execution_count": 80,
   "id": "c8034973",
   "metadata": {},
   "outputs": [],
   "source": [
    "tk = Tokenizer(oov_token='<OOV>')"
   ]
  },
  {
   "cell_type": "code",
   "execution_count": 14,
   "id": "4fc34508",
   "metadata": {},
   "outputs": [],
   "source": [
    "for i in range(len(sentences)):\n",
    "    arr = []\n",
    "    for j in sentences[i].strip().split():\n",
    "        if j[0] != '\\ufeff':\n",
    "            arr.append(j)\n",
    "    sentences[i] = ' '.join(arr)"
   ]
  },
  {
   "cell_type": "code",
   "execution_count": 17,
   "id": "07d8b952",
   "metadata": {},
   "outputs": [],
   "source": [
    "complete_text = ' '.join(sentences)"
   ]
  },
  {
   "cell_type": "code",
   "execution_count": 19,
   "id": "1631aa54",
   "metadata": {},
   "outputs": [],
   "source": [
    "from keras.preprocessing.text import Tokenizer"
   ]
  },
  {
   "cell_type": "code",
   "execution_count": 20,
   "id": "6c7846d7",
   "metadata": {},
   "outputs": [],
   "source": [
    "tokens = Tokenizer(oov_token='<OOV>')"
   ]
  },
  {
   "cell_type": "code",
   "execution_count": 21,
   "id": "f9ef71aa",
   "metadata": {},
   "outputs": [],
   "source": [
    "tokens.fit_on_texts([complete_text])"
   ]
  },
  {
   "cell_type": "code",
   "execution_count": 28,
   "id": "c7f32ccf",
   "metadata": {},
   "outputs": [],
   "source": [
    "transformed_text = []\n",
    "for i in sentences:\n",
    "    n = len(tokens.texts_to_sequences([i])[0])\n",
    "    for j in range(1,n):\n",
    "        transformed_text.append(tokens.texts_to_sequences([i])[0][:j+1])"
   ]
  },
  {
   "cell_type": "code",
   "execution_count": 33,
   "id": "5ab80127",
   "metadata": {},
   "outputs": [],
   "source": [
    "maxi = [len(i) for i in transformed_text ]"
   ]
  },
  {
   "cell_type": "code",
   "execution_count": 34,
   "id": "d183ec1d",
   "metadata": {},
   "outputs": [],
   "source": [
    "max_len = max(maxi)"
   ]
  },
  {
   "cell_type": "code",
   "execution_count": 36,
   "id": "f417721b",
   "metadata": {},
   "outputs": [],
   "source": [
    "from keras.utils import pad_sequences"
   ]
  },
  {
   "cell_type": "code",
   "execution_count": 38,
   "id": "d011aed8",
   "metadata": {},
   "outputs": [],
   "source": [
    "transformed_arr= pad_sequences(transformed_text , max_len , padding='pre')"
   ]
  },
  {
   "cell_type": "code",
   "execution_count": 41,
   "id": "6f8000d8",
   "metadata": {},
   "outputs": [],
   "source": [
    "features = transformed_arr[:,:-1] \n",
    "output = transformed_arr[:,-1]"
   ]
  },
  {
   "cell_type": "code",
   "execution_count": 43,
   "id": "1f667d8f",
   "metadata": {},
   "outputs": [],
   "source": [
    "from keras.utils import to_categorical"
   ]
  },
  {
   "cell_type": "code",
   "execution_count": 59,
   "id": "2bc96904",
   "metadata": {},
   "outputs": [],
   "source": [
    "output_encoded = to_categorical(output , num_classes=len(tokens.word_index)+1)"
   ]
  },
  {
   "cell_type": "code",
   "execution_count": 64,
   "id": "9ded0913",
   "metadata": {},
   "outputs": [
    {
     "data": {
      "text/plain": [
       "(106445, 251)"
      ]
     },
     "execution_count": 64,
     "metadata": {},
     "output_type": "execute_result"
    }
   ],
   "source": [
    "transformed_arr.shape"
   ]
  },
  {
   "cell_type": "code",
   "execution_count": 62,
   "id": "a8efa14c",
   "metadata": {},
   "outputs": [],
   "source": [
    "import tensorflow\n",
    "from tensorflow import keras\n",
    "from keras.layers import LSTM , Dense , Embedding\n",
    "from keras.models import Sequential"
   ]
  },
  {
   "cell_type": "code",
   "execution_count": 101,
   "id": "76735139",
   "metadata": {},
   "outputs": [],
   "source": [
    "model = Sequential()\n",
    "model.add(Embedding(len(tokens.word_index)+1 , 100 , input_length=len(transformed_arr[0])))\n",
    "model.add(LSTM(150))\n",
    "model.add(Dense(len(tokens.word_index)+1 , activation='softmax' ))\n",
    "model.compile(loss = 'categorical_crossentropy' , metrics = ['accuracy'] )"
   ]
  },
  {
   "cell_type": "code",
   "execution_count": 102,
   "id": "e35350b9",
   "metadata": {},
   "outputs": [
    {
     "name": "stdout",
     "output_type": "stream",
     "text": [
      "Epoch 1/10\n",
      "3327/3327 [==============================] - 1220s 365ms/step - loss: 5.5639 - accuracy: 0.2235\n",
      "Epoch 2/10\n",
      "3327/3327 [==============================] - 27684s 8s/step - loss: 3.9746 - accuracy: 0.4933\n",
      "Epoch 3/10\n",
      "3327/3327 [==============================] - 1138s 342ms/step - loss: 3.5235 - accuracy: 0.5556\n",
      "Epoch 4/10\n",
      "3327/3327 [==============================] - 749s 225ms/step - loss: 3.2672 - accuracy: 0.5929\n",
      "Epoch 5/10\n",
      "3327/3327 [==============================] - 1164s 350ms/step - loss: 3.0435 - accuracy: 0.6297\n",
      "Epoch 6/10\n",
      "3327/3327 [==============================] - 1061s 319ms/step - loss: 2.8547 - accuracy: 0.6584\n",
      "Epoch 7/10\n",
      "3327/3327 [==============================] - 753s 226ms/step - loss: 2.7000 - accuracy: 0.6780\n",
      "Epoch 8/10\n",
      "3327/3327 [==============================] - 603s 181ms/step - loss: 2.5662 - accuracy: 0.6954\n",
      "Epoch 9/10\n",
      "3327/3327 [==============================] - 2040s 613ms/step - loss: 2.4489 - accuracy: 0.7087\n",
      "Epoch 10/10\n",
      "3327/3327 [==============================] - 657s 198ms/step - loss: 2.3459 - accuracy: 0.7204\n"
     ]
    },
    {
     "data": {
      "text/plain": [
       "<keras.src.callbacks.History at 0x12c92ff5850>"
      ]
     },
     "execution_count": 102,
     "metadata": {},
     "output_type": "execute_result"
    }
   ],
   "source": [
    "model.fit(transformed_arr , output_encoded , epochs = 10)"
   ]
  },
  {
   "cell_type": "code",
   "execution_count": 131,
   "id": "bbc2a66d",
   "metadata": {},
   "outputs": [],
   "source": [
    "word = 'email'"
   ]
  },
  {
   "cell_type": "code",
   "execution_count": 132,
   "id": "4d280bc6",
   "metadata": {},
   "outputs": [],
   "source": [
    "tokenized = tokens.texts_to_sequences([word])"
   ]
  },
  {
   "cell_type": "code",
   "execution_count": 133,
   "id": "77b02d2a",
   "metadata": {},
   "outputs": [],
   "source": [
    "padded = pad_sequences(tokenized , maxlen= max_len , padding='pre')"
   ]
  },
  {
   "cell_type": "code",
   "execution_count": 134,
   "id": "d6192ece",
   "metadata": {},
   "outputs": [
    {
     "name": "stdout",
     "output_type": "stream",
     "text": [
      "1/1 [==============================] - 0s 45ms/step\n"
     ]
    }
   ],
   "source": [
    "predicted = model.predict(padded)"
   ]
  },
  {
   "cell_type": "code",
   "execution_count": 135,
   "id": "d013a926",
   "metadata": {},
   "outputs": [],
   "source": [
    "max_index = np.argmax(predicted)"
   ]
  },
  {
   "cell_type": "code",
   "execution_count": 136,
   "id": "b12596d9",
   "metadata": {},
   "outputs": [
    {
     "data": {
      "text/plain": [
       "'fashion'"
      ]
     },
     "execution_count": 136,
     "metadata": {},
     "output_type": "execute_result"
    }
   ],
   "source": [
    "tokens.index_word[max_index]"
   ]
  },
  {
   "cell_type": "code",
   "execution_count": 137,
   "id": "359ff6cd",
   "metadata": {},
   "outputs": [
    {
     "data": {
      "text/plain": [
       "'i am lost without my boswell.'"
      ]
     },
     "execution_count": 137,
     "metadata": {},
     "output_type": "execute_result"
    }
   ],
   "source": [
    "sentences[100]"
   ]
  },
  {
   "cell_type": "code",
   "execution_count": 158,
   "id": "7e66efe7",
   "metadata": {},
   "outputs": [
    {
     "name": "stdout",
     "output_type": "stream",
     "text": [
      "1/1 [==============================] - 0s 35ms/step\n",
      "I love  singular\n",
      "1/1 [==============================] - 0s 36ms/step\n",
      "I love  singular singular\n"
     ]
    }
   ],
   "source": [
    "word = 'I love '\n",
    "for i in range(2) :\n",
    "    tokenized = tokens.texts_to_sequences([word])[0]\n",
    "    padded = pad_sequences([tokenized] , maxlen= max_len , padding='pre')\n",
    "    predicted = model.predict(padded)\n",
    "    max_index = np.argmax(predicted)\n",
    "    word = word + ' ' + tokens.index_word[max_index]\n",
    "    print(word)"
   ]
  },
  {
   "cell_type": "code",
   "execution_count": 159,
   "id": "90a73960",
   "metadata": {},
   "outputs": [],
   "source": [
    "import pickle"
   ]
  },
  {
   "cell_type": "code",
   "execution_count": 161,
   "id": "37f07697",
   "metadata": {},
   "outputs": [],
   "source": [
    "with open('D:/NextWordPredictor' , 'wb') as file:\n",
    "    pickle.dump(model , file= file)"
   ]
  },
  {
   "cell_type": "code",
   "execution_count": 162,
   "id": "53972138",
   "metadata": {},
   "outputs": [],
   "source": [
    "with open('D:/NextWordPredictortokenizer' , 'wb') as file:\n",
    "    pickle.dump(tokens , file= file)"
   ]
  },
  {
   "cell_type": "code",
   "execution_count": null,
   "id": "1d603fff",
   "metadata": {},
   "outputs": [],
   "source": []
  }
 ],
 "metadata": {
  "kernelspec": {
   "display_name": "Python 3 (ipykernel)",
   "language": "python",
   "name": "python3"
  },
  "language_info": {
   "codemirror_mode": {
    "name": "ipython",
    "version": 3
   },
   "file_extension": ".py",
   "mimetype": "text/x-python",
   "name": "python",
   "nbconvert_exporter": "python",
   "pygments_lexer": "ipython3",
   "version": "3.11.5"
  }
 },
 "nbformat": 4,
 "nbformat_minor": 5
}
